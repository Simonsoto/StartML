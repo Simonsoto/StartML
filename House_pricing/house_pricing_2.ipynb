{
 "cells": [
  {
   "cell_type": "markdown",
   "id": "659193bd",
   "metadata": {},
   "source": [
    "# More topics on Melbourne House Prices\n",
    "\n",
    "This notebeook is a continuation of the notebook `house-pricing`. The idea is to go deep i nnew topics in ML.\n",
    "\n",
    "First\n",
    "\n",
    "## MISSING VALUES\n",
    "\n",
    "Missing values are the most common data issue that you will be able to find in almost every data set. The best thing is to be prepared to face this challenge. \n",
    "\n",
    "Most of the machine learning libraries (like sci-kit learn) cannot deal with missing values. These raise an error if a model is built using data with missing values. To avoid these, there are some strategies.\n",
    " \n",
    "**1. Drop columns with missing values**\n",
    "\n",
    "This is the mos simple option but not the most recommended as it has to be clear that the column that is removed does not add anything to the model.\n",
    "\n",
    "**2. Filling the missing values (Imputation)**\n",
    "\n",
    "**Filling** the missing values with some other value. An example of a filling value is the _mean_ but in case you have [skewed](https://en.wikipedia.org/wiki/Skewness) data you might want to use the median, or even the mode. \n",
    "\n",
    "This is probably the best method that can be used. This depends on that the value that is added really makes sense as a value for the numerical values that are in the range of the column. \n",
    "\n",
    "**3. Extension of filling **\n",
    "\n",
    "Filling is the standard approach, and it usually works well. There might be disadvantages as the value that is used to fill in the missing might not be completely accurate, or the rows with the missig values can be unique in some other way. In that case, the model would make better prediction considering which values were originlly missing. For that purpose, for each column with a missing value, a new column is added `\"original_name\"_was_missing` that has as values `True`if the value in the `original_name` was missing and `False` otherwise. This trick can help in some cases but is not always the case.\n",
    "\n",
    "Now, let us test those three in the following."
   ]
  },
  {
   "cell_type": "code",
   "execution_count": 1,
   "id": "6db2b205",
   "metadata": {},
   "outputs": [],
   "source": [
    "# import all the necessary libraries\n",
    "import pandas as pd\n",
    "from sklearn.model_selection import train_test_split\n",
    "from sklearn.impute import SimpleImputer\n",
    "from skelarn.ensemble import RandomForestRegressor\n",
    "from sklearn.metrics import mean_absolute_error\n",
    "\n"
   ]
  },
  {
   "cell_type": "code",
   "execution_count": null,
   "id": "3ec7f0ad",
   "metadata": {},
   "outputs": [],
   "source": [
    "# Case 1. drop the columns "
   ]
  }
 ],
 "metadata": {
  "kernelspec": {
   "display_name": "Python 3",
   "language": "python",
   "name": "python3"
  },
  "language_info": {
   "codemirror_mode": {
    "name": "ipython",
    "version": 3
   },
   "file_extension": ".py",
   "mimetype": "text/x-python",
   "name": "python",
   "nbconvert_exporter": "python",
   "pygments_lexer": "ipython3",
   "version": "3.8.5"
  }
 },
 "nbformat": 4,
 "nbformat_minor": 5
}
